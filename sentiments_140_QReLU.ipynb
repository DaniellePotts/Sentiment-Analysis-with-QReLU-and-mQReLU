{
  "nbformat": 4,
  "nbformat_minor": 0,
  "metadata": {
    "colab": {
      "name": "sentiments 140 QReLU.ipynb",
      "provenance": [],
      "toc_visible": true,
      "authorship_tag": "ABX9TyMYKtGLCh14V2asketQMcmX",
      "include_colab_link": true
    },
    "kernelspec": {
      "display_name": "Python 3",
      "name": "python3"
    },
    "language_info": {
      "name": "python"
    }
  },
  "cells": [
    {
      "cell_type": "markdown",
      "metadata": {
        "id": "view-in-github",
        "colab_type": "text"
      },
      "source": [
        "<a href=\"https://colab.research.google.com/github/DaniellePotts/Sentiment-Analysis-with-QReLU-and-mQReLU/blob/main/sentiments_140_QReLU.ipynb\" target=\"_parent\"><img src=\"https://colab.research.google.com/assets/colab-badge.svg\" alt=\"Open In Colab\"/></a>"
      ]
    },
    {
      "cell_type": "code",
      "metadata": {
        "colab": {
          "base_uri": "https://localhost:8080/"
        },
        "id": "80GkflhOkMQr",
        "outputId": "e25eefa9-2830-4b2a-8d8b-ba96fd2db752"
      },
      "source": [
        "from google.colab import drive\n",
        "drive.mount('/content/drive')"
      ],
      "execution_count": null,
      "outputs": [
        {
          "output_type": "stream",
          "name": "stdout",
          "text": [
            "Drive already mounted at /content/drive; to attempt to forcibly remount, call drive.mount(\"/content/drive\", force_remount=True).\n"
          ]
        }
      ]
    },
    {
      "cell_type": "code",
      "metadata": {
        "colab": {
          "base_uri": "https://localhost:8080/"
        },
        "id": "zRtMCLtH9Ix9",
        "outputId": "deb7e7b7-bef8-4bd4-f2ed-cd8357b6df05"
      },
      "source": [
        "!pip install contractions\n",
        "!python -m spacy download en"
      ],
      "execution_count": null,
      "outputs": [
        {
          "output_type": "stream",
          "name": "stdout",
          "text": [
            "Requirement already satisfied: contractions in /usr/local/lib/python3.7/dist-packages (0.0.52)\n",
            "Requirement already satisfied: textsearch>=0.0.21 in /usr/local/lib/python3.7/dist-packages (from contractions) (0.0.21)\n",
            "Requirement already satisfied: anyascii in /usr/local/lib/python3.7/dist-packages (from textsearch>=0.0.21->contractions) (0.2.0)\n",
            "Requirement already satisfied: pyahocorasick in /usr/local/lib/python3.7/dist-packages (from textsearch>=0.0.21->contractions) (1.4.2)\n",
            "Collecting en_core_web_sm==2.2.5\n",
            "  Downloading https://github.com/explosion/spacy-models/releases/download/en_core_web_sm-2.2.5/en_core_web_sm-2.2.5.tar.gz (12.0 MB)\n",
            "\u001b[K     |████████████████████████████████| 12.0 MB 4.3 MB/s \n",
            "\u001b[?25hRequirement already satisfied: spacy>=2.2.2 in /usr/local/lib/python3.7/dist-packages (from en_core_web_sm==2.2.5) (2.2.4)\n",
            "Requirement already satisfied: plac<1.2.0,>=0.9.6 in /usr/local/lib/python3.7/dist-packages (from spacy>=2.2.2->en_core_web_sm==2.2.5) (1.1.3)\n",
            "Requirement already satisfied: requests<3.0.0,>=2.13.0 in /usr/local/lib/python3.7/dist-packages (from spacy>=2.2.2->en_core_web_sm==2.2.5) (2.23.0)\n",
            "Requirement already satisfied: preshed<3.1.0,>=3.0.2 in /usr/local/lib/python3.7/dist-packages (from spacy>=2.2.2->en_core_web_sm==2.2.5) (3.0.5)\n",
            "Requirement already satisfied: setuptools in /usr/local/lib/python3.7/dist-packages (from spacy>=2.2.2->en_core_web_sm==2.2.5) (57.4.0)\n",
            "Requirement already satisfied: catalogue<1.1.0,>=0.0.7 in /usr/local/lib/python3.7/dist-packages (from spacy>=2.2.2->en_core_web_sm==2.2.5) (1.0.0)\n",
            "Requirement already satisfied: blis<0.5.0,>=0.4.0 in /usr/local/lib/python3.7/dist-packages (from spacy>=2.2.2->en_core_web_sm==2.2.5) (0.4.1)\n",
            "Requirement already satisfied: wasabi<1.1.0,>=0.4.0 in /usr/local/lib/python3.7/dist-packages (from spacy>=2.2.2->en_core_web_sm==2.2.5) (0.8.2)\n",
            "Requirement already satisfied: tqdm<5.0.0,>=4.38.0 in /usr/local/lib/python3.7/dist-packages (from spacy>=2.2.2->en_core_web_sm==2.2.5) (4.62.0)\n",
            "Requirement already satisfied: cymem<2.1.0,>=2.0.2 in /usr/local/lib/python3.7/dist-packages (from spacy>=2.2.2->en_core_web_sm==2.2.5) (2.0.5)\n",
            "Requirement already satisfied: thinc==7.4.0 in /usr/local/lib/python3.7/dist-packages (from spacy>=2.2.2->en_core_web_sm==2.2.5) (7.4.0)\n",
            "Requirement already satisfied: srsly<1.1.0,>=1.0.2 in /usr/local/lib/python3.7/dist-packages (from spacy>=2.2.2->en_core_web_sm==2.2.5) (1.0.5)\n",
            "Requirement already satisfied: murmurhash<1.1.0,>=0.28.0 in /usr/local/lib/python3.7/dist-packages (from spacy>=2.2.2->en_core_web_sm==2.2.5) (1.0.5)\n",
            "Requirement already satisfied: numpy>=1.15.0 in /usr/local/lib/python3.7/dist-packages (from spacy>=2.2.2->en_core_web_sm==2.2.5) (1.19.5)\n",
            "Requirement already satisfied: importlib-metadata>=0.20 in /usr/local/lib/python3.7/dist-packages (from catalogue<1.1.0,>=0.0.7->spacy>=2.2.2->en_core_web_sm==2.2.5) (4.6.4)\n",
            "Requirement already satisfied: typing-extensions>=3.6.4 in /usr/local/lib/python3.7/dist-packages (from importlib-metadata>=0.20->catalogue<1.1.0,>=0.0.7->spacy>=2.2.2->en_core_web_sm==2.2.5) (3.7.4.3)\n",
            "Requirement already satisfied: zipp>=0.5 in /usr/local/lib/python3.7/dist-packages (from importlib-metadata>=0.20->catalogue<1.1.0,>=0.0.7->spacy>=2.2.2->en_core_web_sm==2.2.5) (3.5.0)\n",
            "Requirement already satisfied: urllib3!=1.25.0,!=1.25.1,<1.26,>=1.21.1 in /usr/local/lib/python3.7/dist-packages (from requests<3.0.0,>=2.13.0->spacy>=2.2.2->en_core_web_sm==2.2.5) (1.24.3)\n",
            "Requirement already satisfied: certifi>=2017.4.17 in /usr/local/lib/python3.7/dist-packages (from requests<3.0.0,>=2.13.0->spacy>=2.2.2->en_core_web_sm==2.2.5) (2021.5.30)\n",
            "Requirement already satisfied: chardet<4,>=3.0.2 in /usr/local/lib/python3.7/dist-packages (from requests<3.0.0,>=2.13.0->spacy>=2.2.2->en_core_web_sm==2.2.5) (3.0.4)\n",
            "Requirement already satisfied: idna<3,>=2.5 in /usr/local/lib/python3.7/dist-packages (from requests<3.0.0,>=2.13.0->spacy>=2.2.2->en_core_web_sm==2.2.5) (2.10)\n",
            "\u001b[38;5;2m✔ Download and installation successful\u001b[0m\n",
            "You can now load the model via spacy.load('en_core_web_sm')\n",
            "\u001b[38;5;2m✔ Linking successful\u001b[0m\n",
            "/usr/local/lib/python3.7/dist-packages/en_core_web_sm -->\n",
            "/usr/local/lib/python3.7/dist-packages/spacy/data/en\n",
            "You can now load the model via spacy.load('en')\n"
          ]
        }
      ]
    },
    {
      "cell_type": "code",
      "metadata": {
        "colab": {
          "base_uri": "https://localhost:8080/"
        },
        "id": "GtvqX6UmEWBB",
        "outputId": "82dd9023-1e61-4702-dd02-03a9691bd04b"
      },
      "source": [
        "%tensorflow_version 1.x \n",
        "import tensorflow as tf\n",
        "sess = tf.Session(config=tf.ConfigProto(log_device_placement=True))\n",
        "import pandas as pd  \n",
        "import numpy as np\n",
        "import matplotlib.pyplot as plt\n",
        "from bs4 import BeautifulSoup\n",
        "import spacy\n",
        "import re\n",
        "import unicodedata\n",
        "import nltk\n",
        "nltk.download('stopwords')\n",
        "import contractions\n",
        "from collections import Counter\n",
        "from nltk.tokenize.toktok import ToktokTokenizer\n",
        "\n",
        "from sklearn.model_selection import train_test_split\n",
        "from keras.preprocessing import sequence\n",
        "\n",
        "from QReLU_TensorFlow_Keras import QReLU"
      ],
      "execution_count": null,
      "outputs": [
        {
          "output_type": "stream",
          "name": "stdout",
          "text": [
            "TensorFlow 1.x selected.\n",
            "Device mapping:\n",
            "/job:localhost/replica:0/task:0/device:XLA_CPU:0 -> device: XLA_CPU device\n",
            "\n",
            "[nltk_data] Downloading package stopwords to /root/nltk_data...\n",
            "[nltk_data]   Package stopwords is already up-to-date!\n"
          ]
        },
        {
          "output_type": "stream",
          "name": "stderr",
          "text": [
            "Using TensorFlow backend.\n"
          ]
        }
      ]
    },
    {
      "cell_type": "code",
      "metadata": {
        "id": "gxmSYADipo_z"
      },
      "source": [
        "nlp = spacy.load('en', parse=True, tag=True, entity=True)\n",
        "tokenizer = ToktokTokenizer()\n",
        "stopword_list = nltk.corpus.stopwords.words('english')\n",
        "stopword_list.remove('no')\n",
        "stopword_list.remove('not')"
      ],
      "execution_count": null,
      "outputs": []
    },
    {
      "cell_type": "code",
      "metadata": {
        "id": "eaXwEcweNYXL"
      },
      "source": [
        "cols = ['sentiment','id','date','query_string','user','text']"
      ],
      "execution_count": null,
      "outputs": []
    },
    {
      "cell_type": "code",
      "metadata": {
        "id": "zwneKfYgO30N"
      },
      "source": [
        "df = pd.read_csv(\"./drive/MyDrive/QReLU/training.csv\",header=None, names=cols,  engine='python')"
      ],
      "execution_count": null,
      "outputs": []
    },
    {
      "cell_type": "code",
      "metadata": {
        "id": "5EXI6Rljkcdo"
      },
      "source": [
        "sentiments_cat = ['negative','neutral','postive']"
      ],
      "execution_count": null,
      "outputs": []
    },
    {
      "cell_type": "code",
      "metadata": {
        "id": "Zv3KHgaAkh2G"
      },
      "source": [
        "def chop_dataframe(df, amount):\n",
        "  df_4 = df.loc[df['sentiment'] == 4]\n",
        "  df_1 = df.loc[df['sentiment'] == 0]\n",
        "  df_final = df_4.head(amount)\n",
        "  return pd.concat([df_final, df_1.head(amount)])\n",
        "\n",
        "def encode_corpus(corpus):\n",
        "  words = ' '.join(corpus).split()\n",
        "  \n",
        "  count_words = Counter(words)\n",
        "  total_words = len(words)\n",
        "\n",
        "def count_words(corpus):\n",
        "  words = ' '.join(corpus).split()\n",
        "  \n",
        "  counted_words = Counter(words)\n",
        "  total_words = len(words)\n",
        "\n",
        "  return total_words, counted_words\n",
        "\n",
        "def sort_words(corpus):\n",
        "  total_words, counted_words = count_words(corpus)\n",
        "  return counted_words.most_common(total_words)\n",
        "\n",
        "def decode_sentiments(encoded_sentiments, sentiments_cat=sentiments_cat, postive_index=2, \n",
        "                      negative_index=0, neutral_index=1):\n",
        "  decoded_sentiments = []\n",
        "\n",
        "  for index in range(0, len(encoded_sentiments)):\n",
        "    if encoded_sentiments[index] == 0:\n",
        "      decoded_sentiments.append(sentiments_cat[negative_index])\n",
        "    elif encoded_sentiments[index] == 2:\n",
        "      decoded_sentiments.append(sentiments_cat[neutral_index])\n",
        "    elif encoded_sentiments[index] == 4 or encoded_sentiments[index] == 1:\n",
        "      decoded_sentiments.append(sentiments_cat[postive_index])\n",
        "  \n",
        "  return decoded_sentiments\n",
        "\n",
        "def convert_sentiments(sentiments):\n",
        "  converted = []\n",
        "\n",
        "  for s in sentiments:\n",
        "    if s == 4:\n",
        "      converted.append(1)\n",
        "    else:\n",
        "      converted.append(0)\n",
        "  return np.array(converted)"
      ],
      "execution_count": null,
      "outputs": []
    },
    {
      "cell_type": "code",
      "metadata": {
        "id": "KqZsKAs98qnr"
      },
      "source": [
        "#save load json files\n",
        "import json \n",
        "\n",
        "def save(file_name, obj):\n",
        "  with open(file_name, 'w') as outfile:\n",
        "    json.dump(obj, outfile)\n",
        "\n",
        "def load(file_name):\n",
        "  with open(file_name) as json_file:\n",
        "    data = json.load(json_file)\n",
        "    return data['corpus']"
      ],
      "execution_count": null,
      "outputs": []
    },
    {
      "cell_type": "code",
      "metadata": {
        "id": "oEGaL4GzyyqG"
      },
      "source": [
        "def strip_html_tags(text):\n",
        "    soup = BeautifulSoup(text, \"html.parser\")\n",
        "    stripped_text = soup.get_text()\n",
        "    return stripped_text\n",
        "\n",
        "def convert_to_lower(corpus):\n",
        "    return [c.lower() for c in corpus]\n",
        "    \n",
        "def remove_accented_chars(text):\n",
        "    text = unicodedata.normalize('NFKD', text).encode('ascii', 'ignore').decode('utf-8', 'ignore')\n",
        "    return text\n",
        "\n",
        "def remove_special_characters(text, remove_digits=False):\n",
        "    pattern = r'[^a-zA-z0-9\\s]' if not remove_digits else r'[^a-zA-z\\s]'\n",
        "    text = re.sub(pattern, '', text)\n",
        "    return text\n",
        "\n",
        "def remove_stopwords(text, is_lower_case=False):\n",
        "    tokens = tokenizer.tokenize(text)\n",
        "    tokens = [token.strip() for token in tokens]\n",
        "    if is_lower_case:\n",
        "        filtered_tokens = [token for token in tokens if token not in stopword_list]\n",
        "    else:\n",
        "        filtered_tokens = [token for token in tokens if token.lower() not in stopword_list]\n",
        "    filtered_text = ' '.join(filtered_tokens)    \n",
        "    return filtered_text\n",
        "\n",
        "def expand_contractions(text):\n",
        "  expanded_words = []    \n",
        "  for word in text.split():\n",
        "    # using contractions.fix to expand the shotened words\n",
        "    expanded_words.append(contractions.fix(word))   \n",
        "      \n",
        "  return' '.join(expanded_words)"
      ],
      "execution_count": null,
      "outputs": []
    },
    {
      "cell_type": "code",
      "metadata": {
        "id": "ukTSqtPxXbgI"
      },
      "source": [
        "df_4 = df.loc[df['sentiment'] == 4]\n",
        "df_1 = df.loc[df['sentiment'] == 0]\n",
        "df_final = df_4.head(60000)\n",
        "df_5 = pd.concat([df_final, df_1.head(60000)])"
      ],
      "execution_count": null,
      "outputs": []
    },
    {
      "cell_type": "code",
      "metadata": {
        "id": "DRcMTPmfAuNs"
      },
      "source": [
        "df = df_5"
      ],
      "execution_count": null,
      "outputs": []
    },
    {
      "cell_type": "code",
      "metadata": {
        "colab": {
          "base_uri": "https://localhost:8080/"
        },
        "id": "QWPSvAyZ79Jn",
        "outputId": "d47b6e8e-5dbe-4bbf-d745-8aa3a40f0d2a"
      },
      "source": [
        "len(df_5)"
      ],
      "execution_count": null,
      "outputs": [
        {
          "output_type": "execute_result",
          "data": {
            "text/plain": [
              "120000"
            ]
          },
          "metadata": {},
          "execution_count": 77
        }
      ]
    },
    {
      "cell_type": "code",
      "metadata": {
        "id": "zhBfhpNoBpEi"
      },
      "source": [
        "sentiments = convert_sentiments(df['sentiment'].values)"
      ],
      "execution_count": null,
      "outputs": []
    },
    {
      "cell_type": "code",
      "metadata": {
        "id": "WuLka4PUkQkP"
      },
      "source": [
        "sentiments = convert_sentiments(df['sentiment'].values)\n",
        "corpus = convert_to_lower(df['text'].values)"
      ],
      "execution_count": null,
      "outputs": []
    },
    {
      "cell_type": "code",
      "metadata": {
        "id": "ObVjkO8GmTQX"
      },
      "source": [
        "def normalize_corpus(corpus, html_stripping=True, contraction_expansion=True,\n",
        "                     accented_char_removal=True, text_lower_case=True, \n",
        "                     text_lemmatization=True, special_char_removal=True, \n",
        "                     stopword_removal=True, remove_digits=True):\n",
        "    \n",
        "    normalized_corpus = []\n",
        "    # normalize each document in the corpus\n",
        "    for doc in corpus:\n",
        "        # strip HTML\n",
        "        if html_stripping:\n",
        "            doc = strip_html_tags(doc)\n",
        "        \n",
        "        # remove accented characters\n",
        "        if accented_char_removal:\n",
        "            doc = remove_accented_chars(doc)\n",
        "        \n",
        "        # expand contractions    \n",
        "        if contraction_expansion:\n",
        "            doc = expand_contractions(doc)\n",
        "        \n",
        "        # lowercase the text    \n",
        "        if text_lower_case:\n",
        "            doc = doc.lower()\n",
        "        \n",
        "        # remove extra newlines\n",
        "        doc = re.sub(r'[\\r|\\n|\\r\\n]+', ' ',doc)\n",
        "        \n",
        "        # lemmatize text\n",
        "        # if text_lemmatization:\n",
        "        #     doc = lemmatize_text(doc)\n",
        "        \n",
        "        # remove special characters and\\or digits    \n",
        "        if special_char_removal:\n",
        "            # insert spaces between special characters to isolate them    \n",
        "            special_char_pattern = re.compile(r'([{.(-)!}])')\n",
        "            doc = special_char_pattern.sub(\" \\\\1 \", doc)\n",
        "            doc = remove_special_characters(doc, remove_digits=remove_digits)  \n",
        "            \n",
        "            pat1 = r'@[A-Za-z0-9_]+'\n",
        "            pat2 = r'https?://[^ ]+'\n",
        "            www_pat = r'www.[^ ]+'\n",
        "            combined_pat = r'|'.join((pat1, pat2))\n",
        "            doc = re.sub(combined_pat, '', doc)\n",
        "            doc = re.sub(www_pat, '', doc)\n",
        "\n",
        "        # remove extra whitespace\n",
        "        doc = re.sub(' +', ' ', doc)\n",
        "        # remove stopwords\n",
        "        if stopword_removal:\n",
        "            doc = remove_stopwords(doc, is_lower_case=text_lower_case)\n",
        "            \n",
        "        normalized_corpus.append(doc)\n",
        "        \n",
        "    return normalized_corpus"
      ],
      "execution_count": null,
      "outputs": []
    },
    {
      "cell_type": "code",
      "metadata": {
        "id": "chAYibIDq_tp"
      },
      "source": [
        "normalized_corpus = normalize_corpus(corpus)\n",
        "save(\"./drive/MyDrive/QReLU/corpus.json\", {\"corpus\": normalized_corpus})\n",
        "\n",
        "# normalized_corpus = load(\"./drive/MyDrive/QReLU/corpus.json\")"
      ],
      "execution_count": null,
      "outputs": []
    },
    {
      "cell_type": "code",
      "metadata": {
        "colab": {
          "base_uri": "https://localhost:8080/",
          "height": 35
        },
        "id": "a1pFj1ceOuiA",
        "outputId": "9ce3c44e-a0de-440a-e3a4-faee2bb56284"
      },
      "source": [
        "normalized_corpus[0]"
      ],
      "execution_count": null,
      "outputs": [
        {
          "output_type": "execute_result",
          "data": {
            "application/vnd.google.colaboratory.intrinsic+json": {
              "type": "string"
            },
            "text/plain": [
              "'love healthuandpets guys r best'"
            ]
          },
          "metadata": {},
          "execution_count": 57
        }
      ]
    },
    {
      "cell_type": "code",
      "metadata": {
        "id": "4dD3157J1TbC"
      },
      "source": [
        "total_words = count_words(normalized_corpus)\n",
        "sorted_words = sort_words(normalized_corpus)"
      ],
      "execution_count": null,
      "outputs": []
    },
    {
      "cell_type": "code",
      "metadata": {
        "id": "4zrlGH-W1tEa"
      },
      "source": [
        "vocab_to_int = {w:i+1 for i, (w,c) in enumerate(sorted_words)}"
      ],
      "execution_count": null,
      "outputs": []
    },
    {
      "cell_type": "code",
      "metadata": {
        "id": "emnJ-ViZ1t6R"
      },
      "source": [
        "def tokenize(corpus):\n",
        "  reviews_int = []\n",
        "  for review in corpus:\n",
        "      r = [vocab_to_int[w] for w in review.split()]\n",
        "      reviews_int.append(r)\n",
        "  return reviews_int"
      ],
      "execution_count": null,
      "outputs": []
    },
    {
      "cell_type": "code",
      "metadata": {
        "colab": {
          "base_uri": "https://localhost:8080/"
        },
        "id": "_vYm_OFr13Pv",
        "outputId": "714161e9-f5d9-49d3-d6e3-51fd78cbe3ec"
      },
      "source": [
        "encoded = tokenize(normalized_corpus)\n",
        "encoded_np = np.array(encoded)"
      ],
      "execution_count": null,
      "outputs": [
        {
          "output_type": "stream",
          "name": "stderr",
          "text": [
            "/usr/local/lib/python3.7/dist-packages/ipykernel_launcher.py:2: VisibleDeprecationWarning: Creating an ndarray from ragged nested sequences (which is a list-or-tuple of lists-or-tuples-or ndarrays with different lengths or shapes) is deprecated. If you meant to do this, you must specify 'dtype=object' when creating the ndarray\n",
            "  \n"
          ]
        }
      ]
    },
    {
      "cell_type": "code",
      "metadata": {
        "colab": {
          "base_uri": "https://localhost:8080/"
        },
        "id": "7v9_4673Bz9n",
        "outputId": "d0e6ce5a-4d07-47e8-fa5e-80aa93bdd99c"
      },
      "source": [
        "len(encoded)"
      ],
      "execution_count": null,
      "outputs": [
        {
          "output_type": "execute_result",
          "data": {
            "text/plain": [
              "20000"
            ]
          },
          "metadata": {},
          "execution_count": 22
        }
      ]
    },
    {
      "cell_type": "code",
      "metadata": {
        "id": "lcVqyv1-ngt7"
      },
      "source": [
        "VOCAB_SIZE = total_words[0]\n",
        "MAXLEN = 160\n",
        "\n",
        "X_train, X_test, y_train, y_test = train_test_split(\n",
        "    encoded, sentiments, test_size=0.2, random_state=42)\n",
        "\n",
        "X_train = sequence.pad_sequences(X_train, MAXLEN)\n",
        "X_test = sequence.pad_sequences(X_test, MAXLEN)"
      ],
      "execution_count": null,
      "outputs": []
    },
    {
      "cell_type": "code",
      "metadata": {
        "id": "ENKUKKCr6wG5",
        "colab": {
          "base_uri": "https://localhost:8080/"
        },
        "outputId": "f0e6af03-8799-42d1-9579-689edf1283d5"
      },
      "source": [
        "model2 = tf.keras.Sequential([\n",
        "    tf.keras.layers.Embedding(VOCAB_SIZE, 128),\n",
        "    tf.keras.layers.LSTM(128, return_sequences=True),\n",
        "     tf.keras.layers.LSTM(128),\n",
        "    tf.keras.layers.Dense(1),\n",
        "    QReLU()\n",
        "])\n",
        "\n",
        "model2.summary()"
      ],
      "execution_count": null,
      "outputs": [
        {
          "output_type": "stream",
          "name": "stdout",
          "text": [
            "WARNING:tensorflow:Entity <bound method QReLU.call of <QReLU_TensorFlow_Keras.QReLU object at 0x7fd17f3c2e10>> could not be transformed and will be executed as-is. Please report this to the AutoGraph team. When filing the bug, set the verbosity to 10 (on Linux, `export AUTOGRAPH_VERBOSITY=10`) and attach the full output. Cause: Bad argument number for Name: 3, expecting 4\n",
            "WARNING: Entity <bound method QReLU.call of <QReLU_TensorFlow_Keras.QReLU object at 0x7fd17f3c2e10>> could not be transformed and will be executed as-is. Please report this to the AutoGraph team. When filing the bug, set the verbosity to 10 (on Linux, `export AUTOGRAPH_VERBOSITY=10`) and attach the full output. Cause: Bad argument number for Name: 3, expecting 4\n",
            "Model: \"sequential_4\"\n",
            "_________________________________________________________________\n",
            "Layer (type)                 Output Shape              Param #   \n",
            "=================================================================\n",
            "embedding_4 (Embedding)      (None, None, 128)         116228352 \n",
            "_________________________________________________________________\n",
            "lstm_5 (LSTM)                (None, None, 128)         131584    \n",
            "_________________________________________________________________\n",
            "lstm_6 (LSTM)                (None, 128)               131584    \n",
            "_________________________________________________________________\n",
            "dense_4 (Dense)              (None, 1)                 129       \n",
            "_________________________________________________________________\n",
            "q_re_lu_4 (QReLU)            (None, 1)                 0         \n",
            "=================================================================\n",
            "Total params: 116,491,649\n",
            "Trainable params: 116,491,649\n",
            "Non-trainable params: 0\n",
            "_________________________________________________________________\n"
          ]
        }
      ]
    },
    {
      "cell_type": "code",
      "metadata": {
        "colab": {
          "base_uri": "https://localhost:8080/"
        },
        "id": "JHz5rBIs9ZUJ",
        "outputId": "3e6ebc95-5ee9-47dc-c7dd-6634789fdc81"
      },
      "source": [
        "model2.compile(loss=\"binary_crossentropy\",optimizer=\"RMSprop\",metrics=['acc'])\n",
        "\n",
        "history = model2.fit(X_train, y_train, epochs=5, validation_split=0.3, batch_size=32)"
      ],
      "execution_count": null,
      "outputs": [
        {
          "output_type": "stream",
          "name": "stdout",
          "text": [
            "Train on 67200 samples, validate on 28800 samples\n",
            "Epoch 1/5\n",
            "67200/67200 [==============================] - 3068s 46ms/sample - loss: 0.5907 - acc: 0.7244 - val_loss: 0.5641 - val_acc: 0.7615\n",
            "Epoch 2/5\n",
            "67200/67200 [==============================] - 3071s 46ms/sample - loss: 0.5458 - acc: 0.7662 - val_loss: 0.6222 - val_acc: 0.7720\n",
            "Epoch 3/5\n",
            "67200/67200 [==============================] - 3083s 46ms/sample - loss: 0.4438 - acc: 0.8233 - val_loss: 0.5506 - val_acc: 0.7706\n",
            "Epoch 4/5\n",
            "67200/67200 [==============================] - 3069s 46ms/sample - loss: 0.3781 - acc: 0.8747 - val_loss: 0.7089 - val_acc: 0.7647\n",
            "Epoch 5/5\n",
            "67200/67200 [==============================] - 3085s 46ms/sample - loss: 0.3340 - acc: 0.9020 - val_loss: 0.9008 - val_acc: 0.7512\n"
          ]
        }
      ]
    },
    {
      "cell_type": "code",
      "metadata": {
        "id": "Vht30w8r9cpu",
        "colab": {
          "base_uri": "https://localhost:8080/"
        },
        "outputId": "42f98b92-067e-4277-dfac-f9fd414c5097"
      },
      "source": [
        "results = model2.evaluate(X_test, y_test)\n",
        "print(results)"
      ],
      "execution_count": null,
      "outputs": [
        {
          "output_type": "stream",
          "name": "stdout",
          "text": [
            "24000/24000 [==============================] - 87s 4ms/sample - loss: 0.8735 - acc: 0.7447\n",
            "[0.8734836395581563, 0.7446667]\n"
          ]
        }
      ]
    },
    {
      "cell_type": "code",
      "metadata": {
        "id": "z63se7tbrmJ-"
      },
      "source": [
        ""
      ],
      "execution_count": null,
      "outputs": []
    }
  ]
}